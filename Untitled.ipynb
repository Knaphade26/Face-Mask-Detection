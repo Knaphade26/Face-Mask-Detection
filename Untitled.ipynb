{
 "cells": [
  {
   "cell_type": "code",
   "execution_count": 1,
   "id": "0af7d4f6",
   "metadata": {},
   "outputs": [
    {
     "name": "stdout",
     "output_type": "stream",
     "text": [
      "{'with mask': 0, 'without mask': 1}\n",
      "['with mask', 'without mask']\n",
      "[0, 1]\n"
     ]
    }
   ],
   "source": [
    "import cv2,os\n",
    "\n",
    "data_path=\"D:\\Face Mask Detection\\dataset\"\n",
    "categories=os.listdir(data_path)\n",
    "labels=[i for i in range(len(categories))]\n",
    "\n",
    "label_dict=dict(zip(categories,labels))\n",
    "\n",
    "print(label_dict)\n",
    "print(categories)\n",
    "print(labels)"
   ]
  },
  {
   "cell_type": "code",
   "execution_count": 2,
   "id": "c3959455",
   "metadata": {},
   "outputs": [],
   "source": [
    "img_size=100\n",
    "data=[]\n",
    "target=[]\n",
    "\n",
    "\n",
    "for category in categories:\n",
    "    folder_path=os.path.join(data_path,category)\n",
    "    img_names=os.listdir(folder_path)\n",
    "        \n",
    "    for img_name in img_names:\n",
    "        img_path=os.path.join(folder_path,img_name)\n",
    "        img=cv2.imread(img_path)\n",
    "\n",
    "        try:\n",
    "            gray=cv2.cvtColor(img,cv2.COLOR_BGR2GRAY)           \n",
    "            #Coverting the image into gray scale\n",
    "            resized=cv2.resize(gray,(img_size,img_size))\n",
    "            #resizing the gray scale into 100x100, since we need a fixed common size for all the images in the dataset\n",
    "            data.append(resized)\n",
    "            target.append(label_dict[category])\n",
    "            #appending the image and the label(categorized) into the list (dataset)\n",
    "\n",
    "        except Exception as e:\n",
    "            print('Exception:',e)\n",
    "            #if any exception rasied, the exception will be printed here. And pass to the next image"
   ]
  },
  {
   "cell_type": "code",
   "execution_count": 3,
   "id": "ebf3a6a3",
   "metadata": {},
   "outputs": [],
   "source": [
    "import numpy as np\n",
    "\n",
    "data=np.array(data)/255.0\n",
    "data=np.reshape(data,(data.shape[0],img_size,img_size,1))\n",
    "target=np.array(target)\n",
    "\n",
    "from keras.utils import np_utils\n",
    "\n",
    "new_target=np_utils.to_categorical(target)"
   ]
  },
  {
   "cell_type": "code",
   "execution_count": 4,
   "id": "4873d9e4",
   "metadata": {},
   "outputs": [],
   "source": [
    "np.save('data',data)\n",
    "np.save('target',new_target)"
   ]
  },
  {
   "cell_type": "code",
   "execution_count": 5,
   "id": "d340ec14",
   "metadata": {},
   "outputs": [],
   "source": [
    "import numpy as np\n",
    "\n",
    "data=np.load('data.npy')\n",
    "target=np.load('target.npy')\n",
    "\n",
    "#loading the save numpy arrays in the previous code"
   ]
  },
  {
   "cell_type": "code",
   "execution_count": 6,
   "id": "b2fb3042",
   "metadata": {},
   "outputs": [],
   "source": [
    "from keras.models import Sequential\n",
    "from keras.layers import Dense,Activation,Flatten,Dropout\n",
    "from keras.layers import Conv2D,MaxPooling2D\n",
    "from keras.callbacks import ModelCheckpoint\n",
    "\n",
    "model=Sequential()\n",
    "\n",
    "model.add(Conv2D(200,(3,3),input_shape=data.shape[1:]))\n",
    "model.add(Activation('relu'))\n",
    "model.add(MaxPooling2D(pool_size=(2,2)))\n",
    "#The first CNN layer followed by Relu and MaxPooling layers\n",
    "\n",
    "model.add(Conv2D(100,(3,3)))\n",
    "model.add(Activation('relu'))\n",
    "model.add(MaxPooling2D(pool_size=(2,2)))\n",
    "#The second convolution layer followed by Relu and MaxPooling layers\n",
    "\n",
    "model.add(Flatten())\n",
    "model.add(Dropout(0.5))\n",
    "#Flatten layer to stack the output convolutions from second convolution layer\n",
    "model.add(Dense(50,activation='relu'))\n",
    "#Dense layer of 64 neurons\n",
    "model.add(Dense(2,activation='softmax'))\n",
    "#The Final layer with two outputs for two categories\n",
    "\n",
    "model.compile(loss='categorical_crossentropy',optimizer='adam',metrics=['accuracy'])"
   ]
  },
  {
   "cell_type": "code",
   "execution_count": 7,
   "id": "325de286",
   "metadata": {},
   "outputs": [],
   "source": [
    "from sklearn.model_selection import train_test_split\n",
    "\n",
    "train_data,test_data,train_target,test_target=train_test_split(data,target,test_size=0.1)"
   ]
  },
  {
   "cell_type": "code",
   "execution_count": 8,
   "id": "f0ba6c4f",
   "metadata": {},
   "outputs": [
    {
     "name": "stdout",
     "output_type": "stream",
     "text": [
      "Epoch 1/20\n",
      "31/31 [==============================] - ETA: 0s - loss: 0.7317 - accuracy: 0.5162INFO:tensorflow:Assets written to: model-001.model\\assets\n",
      "31/31 [==============================] - 124s 4s/step - loss: 0.7317 - accuracy: 0.5162 - val_loss: 0.6783 - val_accuracy: 0.4839\n",
      "Epoch 2/20\n",
      "31/31 [==============================] - ETA: 0s - loss: 0.6310 - accuracy: 0.6505INFO:tensorflow:Assets written to: model-002.model\\assets\n",
      "31/31 [==============================] - 83s 3s/step - loss: 0.6310 - accuracy: 0.6505 - val_loss: 0.4733 - val_accuracy: 0.8347\n",
      "Epoch 3/20\n",
      "31/31 [==============================] - ETA: 0s - loss: 0.4395 - accuracy: 0.7909INFO:tensorflow:Assets written to: model-003.model\\assets\n",
      "31/31 [==============================] - 81s 3s/step - loss: 0.4395 - accuracy: 0.7909 - val_loss: 0.4080 - val_accuracy: 0.7823\n",
      "Epoch 4/20\n",
      "31/31 [==============================] - ETA: 0s - loss: 0.3105 - accuracy: 0.8707INFO:tensorflow:Assets written to: model-004.model\\assets\n",
      "31/31 [==============================] - 80s 3s/step - loss: 0.3105 - accuracy: 0.8707 - val_loss: 0.2265 - val_accuracy: 0.9435\n",
      "Epoch 5/20\n",
      "31/31 [==============================] - ETA: 0s - loss: 0.2404 - accuracy: 0.9020INFO:tensorflow:Assets written to: model-005.model\\assets\n",
      "31/31 [==============================] - 79s 3s/step - loss: 0.2404 - accuracy: 0.9020 - val_loss: 0.2146 - val_accuracy: 0.9274\n",
      "Epoch 6/20\n",
      "31/31 [==============================] - ETA: 0s - loss: 0.1628 - accuracy: 0.9374INFO:tensorflow:Assets written to: model-006.model\\assets\n",
      "31/31 [==============================] - 80s 3s/step - loss: 0.1628 - accuracy: 0.9374 - val_loss: 0.1686 - val_accuracy: 0.9194\n",
      "Epoch 7/20\n",
      "31/31 [==============================] - ETA: 0s - loss: 0.1234 - accuracy: 0.9545INFO:tensorflow:Assets written to: model-007.model\\assets\n",
      "31/31 [==============================] - 80s 3s/step - loss: 0.1234 - accuracy: 0.9545 - val_loss: 0.1383 - val_accuracy: 0.9476\n",
      "Epoch 8/20\n",
      "31/31 [==============================] - ETA: 0s - loss: 0.0990 - accuracy: 0.9626INFO:tensorflow:Assets written to: model-008.model\\assets\n",
      "31/31 [==============================] - 80s 3s/step - loss: 0.0990 - accuracy: 0.9626 - val_loss: 0.1224 - val_accuracy: 0.9597\n",
      "Epoch 9/20\n",
      "31/31 [==============================] - 77s 3s/step - loss: 0.0919 - accuracy: 0.9677 - val_loss: 0.2961 - val_accuracy: 0.8589\n",
      "Epoch 10/20\n",
      "31/31 [==============================] - 77s 2s/step - loss: 0.1168 - accuracy: 0.9525 - val_loss: 0.1237 - val_accuracy: 0.9516\n",
      "Epoch 11/20\n",
      "31/31 [==============================] - ETA: 0s - loss: 0.0784 - accuracy: 0.9717INFO:tensorflow:Assets written to: model-011.model\\assets\n",
      "31/31 [==============================] - 79s 3s/step - loss: 0.0784 - accuracy: 0.9717 - val_loss: 0.0928 - val_accuracy: 0.9637\n",
      "Epoch 12/20\n",
      "31/31 [==============================] - 76s 2s/step - loss: 0.0585 - accuracy: 0.9798 - val_loss: 0.1133 - val_accuracy: 0.9516\n",
      "Epoch 13/20\n",
      "31/31 [==============================] - 76s 2s/step - loss: 0.0345 - accuracy: 0.9869 - val_loss: 0.1550 - val_accuracy: 0.9476\n",
      "Epoch 14/20\n",
      "31/31 [==============================] - 77s 2s/step - loss: 0.0827 - accuracy: 0.9758 - val_loss: 0.1522 - val_accuracy: 0.9435\n",
      "Epoch 15/20\n",
      "31/31 [==============================] - 77s 2s/step - loss: 0.0455 - accuracy: 0.9838 - val_loss: 0.1014 - val_accuracy: 0.9637\n",
      "Epoch 16/20\n",
      "31/31 [==============================] - ETA: 0s - loss: 0.0357 - accuracy: 0.9899INFO:tensorflow:Assets written to: model-016.model\\assets\n",
      "31/31 [==============================] - 79s 3s/step - loss: 0.0357 - accuracy: 0.9899 - val_loss: 0.0889 - val_accuracy: 0.9556\n",
      "Epoch 17/20\n",
      "31/31 [==============================] - 81s 3s/step - loss: 0.0243 - accuracy: 0.9929 - val_loss: 0.1029 - val_accuracy: 0.9677\n",
      "Epoch 18/20\n",
      "31/31 [==============================] - 77s 2s/step - loss: 0.0182 - accuracy: 0.9919 - val_loss: 0.0982 - val_accuracy: 0.9718\n",
      "Epoch 19/20\n",
      "31/31 [==============================] - 77s 2s/step - loss: 0.0254 - accuracy: 0.9909 - val_loss: 0.1042 - val_accuracy: 0.9718\n",
      "Epoch 20/20\n",
      "31/31 [==============================] - 77s 2s/step - loss: 0.0235 - accuracy: 0.9909 - val_loss: 0.1316 - val_accuracy: 0.9556\n"
     ]
    }
   ],
   "source": [
    "checkpoint = ModelCheckpoint('model-{epoch:03d}.model',monitor='val_loss',verbose=0,save_best_only=True,mode='auto')\n",
    "history=model.fit(train_data,train_target,epochs=20,callbacks=[checkpoint],validation_split=0.2)"
   ]
  },
  {
   "cell_type": "code",
   "execution_count": 9,
   "id": "e94d2c98",
   "metadata": {},
   "outputs": [
    {
     "data": {
      "image/png": "[encoded data removed]",
      "text/plain": [
       "<Figure size 432x288 with 1 Axes>"
      ]
     },
     "metadata": {
      "needs_background": "light"
     },
     "output_type": "display_data"
    }
   ],
   "source": [
    "from matplotlib import pyplot as plt\n",
    "\n",
    "plt.plot(history.history['loss'],'r',label='training loss')\n",
    "plt.plot(history.history['val_loss'],label='validation loss')\n",
    "plt.xlabel('# epochs')\n",
    "plt.ylabel('loss')\n",
    "plt.legend()\n",
    "plt.show()"
   ]
  },
  {
   "cell_type": "code",
   "execution_count": 10,
   "id": "c932969a",
   "metadata": {},
   "outputs": [
    {
     "data": {
      "image/png": "[encoded data removed]",
      "text/plain": [
       "<Figure size 432x288 with 1 Axes>"
      ]
     },
     "metadata": {
      "needs_background": "light"
     },
     "output_type": "display_data"
    }
   ],
   "source": [
    "plt.plot(history.history['accuracy'],'r',label='training accuracy')\n",
    "plt.plot(history.history['val_accuracy'],label='validation accuracy')\n",
    "plt.xlabel('# epochs')\n",
    "plt.ylabel('loss')\n",
    "plt.legend()\n",
    "plt.show()"
   ]
  },
  {
   "cell_type": "code",
   "execution_count": 11,
   "id": "e3deaeb5",
   "metadata": {},
   "outputs": [
    {
     "name": "stdout",
     "output_type": "stream",
     "text": [
      "5/5 [==============================] - 3s 523ms/step - loss: 0.1581 - accuracy: 0.9565\n",
      "[0.15808552503585815, 0.95652174949646]\n"
     ]
    }
   ],
   "source": [
    "print(model.evaluate(test_data,test_target))"
   ]
  },
  {
   "cell_type": "code",
   "execution_count": 12,
   "id": "e7700e61",
   "metadata": {},
   "outputs": [],
   "source": [
    "from keras.models import load_model\n",
    "import cv2\n",
    "import numpy as np"
   ]
  },
  {
   "cell_type": "code",
   "execution_count": 13,
   "id": "54826d3c",
   "metadata": {},
   "outputs": [],
   "source": [
    "model = load_model('model-016.model')\n",
    "\n",
    "face_clsfr=cv2.CascadeClassifier('haarcascade_frontalface_default-Copy1.xml')\n",
    "\n",
    "source=cv2.VideoCapture(0)\n",
    "\n",
    "labels_dict={0:'MASK',1:'NO MASK'}\n",
    "color_dict={0:(0,255,0),1:(0,0,255)}"
   ]
  },
  {
   "cell_type": "code",
   "execution_count": 14,
   "id": "675b486f",
   "metadata": {},
   "outputs": [],
   "source": [
    "while(True):\n",
    "\n",
    "    ret,img=source.read()\n",
    "    gray=cv2.cvtColor(img,cv2.COLOR_BGR2GRAY)\n",
    "    faces=face_clsfr.detectMultiScale(gray,1.3,5)  \n",
    "\n",
    "    for x,y,w,h in faces:\n",
    "    \n",
    "        face_img=gray[y:y+w,x:x+w]\n",
    "        resized=cv2.resize(face_img,(100,100))\n",
    "        normalized=resized/255.0\n",
    "        reshaped=np.reshape(normalized,(1,100,100,1))\n",
    "        result=model.predict(reshaped)\n",
    "\n",
    "        label=np.argmax(result,axis=1)[0]\n",
    "      \n",
    "        cv2.rectangle(img,(x,y),(x+w,y+h),color_dict[label],2)\n",
    "        cv2.rectangle(img,(x,y-40),(x+w,y),color_dict[label],-1)\n",
    "        cv2.putText(img, labels_dict[label], (x, y-10),cv2.FONT_HERSHEY_SIMPLEX,0.8,(255,255,255),2)\n",
    "        \n",
    "        \n",
    "    cv2.imshow('LIVE',img)\n",
    "    key=cv2.waitKey(1)\n",
    "    \n",
    "    if(key==27):\n",
    "        break\n",
    "        \n",
    "cv2.destroyAllWindows()\n",
    "source.release()"
   ]
  },
  {
   "cell_type": "code",
   "execution_count": null,
   "id": "e5b13831",
   "metadata": {},
   "outputs": [],
   "source": []
  }
 ],
 "metadata": {
  "kernelspec": {
   "display_name": "Python 3 (ipykernel)",
   "language": "python",
   "name": "python3"
  },
  "language_info": {
   "codemirror_mode": {
    "name": "ipython",
    "version": 3
   },
   "file_extension": ".py",
   "mimetype": "text/x-python",
   "name": "python",
   "nbconvert_exporter": "python",
   "pygments_lexer": "ipython3",
   "version": "3.9.7"
  }
 },
 "nbformat": 4,
 "nbformat_minor": 5
}
